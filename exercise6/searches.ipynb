{
 "cells": [
  {
   "cell_type": "code",
   "execution_count": 44,
   "metadata": {
    "collapsed": true
   },
   "outputs": [],
   "source": [
    "import numpy as np\n",
    "import pandas as pd\n",
    "import sys\n",
    "import scipy.stats as stats"
   ]
  },
  {
   "cell_type": "code",
   "execution_count": 50,
   "metadata": {},
   "outputs": [],
   "source": [
    "input_file = 'searches.json'\n",
    "searches = pd.read_json(input_file, orient='records', lines=True) #even is old interface odd is new"
   ]
  },
  {
   "cell_type": "code",
   "execution_count": 81,
   "metadata": {},
   "outputs": [],
   "source": [
    "even_uid = searches[searches['uid']%2 == 0] #old interface\n",
    "odd_uid = searches[searches['uid']%2 == 1] #new interface\n",
    "#1.Did more users use the search feature? Did a different fraction of users have search count > 0?\n",
    "#2.Did users search more often? Is the number of searches per user different?"
   ]
  },
  {
   "cell_type": "code",
   "execution_count": 77,
   "metadata": {},
   "outputs": [],
   "source": [
    "num_even_notzero = len(even_uid[even_uid['search_count'] > 0].index) #number of users with search count > 0 for old interface\n",
    "num_odd_notzero = len(odd_uid[odd_uid['search_count'] > 0].index) #number of users with search count > 0 for new interface\n",
    "num_even_zero = len(even_uid[even_uid['search_count'] == 0].index)\n",
    "num_odd_zero = len(odd_uid[odd_uid['search_count'] == 0].index)"
   ]
  },
  {
   "cell_type": "code",
   "execution_count": 78,
   "metadata": {},
   "outputs": [
    {
     "data": {
      "text/plain": [
       "0.16762970944995659"
      ]
     },
     "execution_count": 78,
     "metadata": {},
     "output_type": "execute_result"
    }
   ],
   "source": [
    "#chi-squared works on categories. Count the number in each category and fill in the table with the counts.\n",
    "contingency = [[num_even_notzero, num_even_zero], [num_odd_notzero, num_odd_zero]]\n",
    "chi, p, dof, ex = stats.chi2_contingency(contingency)"
   ]
  },
  {
   "cell_type": "code",
   "execution_count": 83,
   "metadata": {},
   "outputs": [
    {
     "data": {
      "text/plain": [
       "0.070591036235434862"
      ]
     },
     "execution_count": 83,
     "metadata": {},
     "output_type": "execute_result"
    }
   ],
   "source": [
    "stats.mannwhitneyu(odd_uid['search_count'],even_uid['search_count']).pvalue"
   ]
  },
  {
   "cell_type": "code",
   "execution_count": 87,
   "metadata": {},
   "outputs": [],
   "source": [
    "even_instructor = even_uid[even_uid['is_instructor'] == True]\n",
    "odd_instructor = odd_uid[odd_uid['is_instructor'] == True]"
   ]
  },
  {
   "cell_type": "code",
   "execution_count": 88,
   "metadata": {
    "collapsed": true
   },
   "outputs": [],
   "source": [
    "instructor_even_notzero = len(even_instructor[even_instructor['search_count'] > 0].index) #number of users with search count > 0 for old interface\n",
    "instructor_odd_notzero = len(odd_instructor[odd_instructor['search_count'] > 0].index) #number of users with search count > 0 for new interface\n",
    "instructor_even_zero = len(even_instructor[even_instructor['search_count'] == 0].index)\n",
    "instructor_odd_zero = len(odd_instructor[odd_instructor['search_count'] == 0].index)"
   ]
  },
  {
   "cell_type": "code",
   "execution_count": 90,
   "metadata": {
    "collapsed": true
   },
   "outputs": [],
   "source": [
    "contingency = [[instructor_even_notzero, instructor_even_zero], [instructor_odd_notzero, instructor_odd_zero]]\n",
    "chi2, p2, dof2, ex2 = stats.chi2_contingency(contingency)"
   ]
  },
  {
   "cell_type": "code",
   "execution_count": 92,
   "metadata": {},
   "outputs": [
    {
     "data": {
      "text/plain": [
       "0.022479717008052572"
      ]
     },
     "execution_count": 92,
     "metadata": {},
     "output_type": "execute_result"
    }
   ],
   "source": [
    "stats.mannwhitneyu(odd_instructor['search_count'],even_instructor['search_count']).pvalue"
   ]
  }
 ],
 "metadata": {
  "kernelspec": {
   "display_name": "Python 3",
   "language": "python",
   "name": "python3"
  },
  "language_info": {
   "codemirror_mode": {
    "name": "ipython",
    "version": 3
   },
   "file_extension": ".py",
   "mimetype": "text/x-python",
   "name": "python",
   "nbconvert_exporter": "python",
   "pygments_lexer": "ipython3",
   "version": "3.6.1"
  }
 },
 "nbformat": 4,
 "nbformat_minor": 2
}
