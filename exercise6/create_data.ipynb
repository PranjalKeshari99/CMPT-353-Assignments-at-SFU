{
 "cells": [
  {
   "cell_type": "code",
   "execution_count": 58,
   "metadata": {},
   "outputs": [],
   "source": [
    "import numpy as np\n",
    "import pandas as pd\n",
    "import time\n",
    "from implementations import all_implementations\n",
    "from scipy import stats\n",
    "from statsmodels.stats.multicomp import pairwise_tukeyhsd"
   ]
  },
  {
   "cell_type": "code",
   "execution_count": 72,
   "metadata": {},
   "outputs": [],
   "source": [
    "data = pd.DataFrame(columns=['qs1', 'qs2', 'qs3', 'qs4', 'qs5', 'merge1', 'partition_sort'], index=np.arange(100))"
   ]
  },
  {
   "cell_type": "code",
   "execution_count": 73,
   "metadata": {},
   "outputs": [],
   "source": [
    "for i in range(100):\n",
    "    random_array = np.random.randint(-500,500,1000)\n",
    "    for sort in all_implementations:\n",
    "        st = time.time()\n",
    "        res = sort(random_array)\n",
    "        en = time.time()\n",
    "        tot = en-st\n",
    "        data.iloc[i][sort.__name__] = tot"
   ]
  },
  {
   "cell_type": "code",
   "execution_count": 74,
   "metadata": {},
   "outputs": [],
   "source": [
    "anova = stats.f_oneway(data['qs1'], data['qs2'], data['qs3'], data['qs4'], data['qs5'], data['merge1'], data['partition_sort'])\n",
    "#p < 0.05 so yes there is a difference between the means of the groups"
   ]
  },
  {
   "cell_type": "code",
   "execution_count": null,
   "metadata": {},
   "outputs": [],
   "source": []
  },
  {
   "cell_type": "code",
   "execution_count": 89,
   "metadata": {},
   "outputs": [],
   "source": [
    "data_melt = pd.melt(data)\n",
    "data_melt['value'] = data_melt['value'].astype('float64')"
   ]
  },
  {
   "cell_type": "code",
   "execution_count": 92,
   "metadata": {},
   "outputs": [],
   "source": [
    "posthoc = pairwise_tukeyhsd(\n",
    "    data_melt['value'], data_melt['variable'],\n",
    "    alpha=0.05)"
   ]
  },
  {
   "cell_type": "code",
   "execution_count": 94,
   "metadata": {},
   "outputs": [
    {
     "name": "stdout",
     "output_type": "stream",
     "text": [
      "      Multiple Comparison of Means - Tukey HSD,FWER=0.05     \n",
      "=============================================================\n",
      "    group1         group2     meandiff  lower   upper  reject\n",
      "-------------------------------------------------------------\n",
      "    merge1     partition_sort -0.0043  -0.0046 -0.0041  True \n",
      "    merge1          qs1       -0.0034  -0.0036 -0.0031  True \n",
      "    merge1          qs2        -0.001  -0.0013 -0.0007  True \n",
      "    merge1          qs3        -0.001  -0.0012 -0.0007  True \n",
      "    merge1          qs4       -0.0018   -0.002 -0.0015  True \n",
      "    merge1          qs5       -0.0016  -0.0018 -0.0013  True \n",
      "partition_sort      qs1        0.0009   0.0007  0.0012  True \n",
      "partition_sort      qs2        0.0033   0.0031  0.0036  True \n",
      "partition_sort      qs3        0.0034   0.0031  0.0036  True \n",
      "partition_sort      qs4        0.0025   0.0023  0.0028  True \n",
      "partition_sort      qs5        0.0028   0.0025  0.003   True \n",
      "     qs1            qs2        0.0024   0.0021  0.0026  True \n",
      "     qs1            qs3        0.0024   0.0022  0.0027  True \n",
      "     qs1            qs4        0.0016   0.0013  0.0019  True \n",
      "     qs1            qs5        0.0018   0.0016  0.0021  True \n",
      "     qs2            qs3         0.0    -0.0002  0.0003 False \n",
      "     qs2            qs4       -0.0008   -0.001 -0.0005  True \n",
      "     qs2            qs5       -0.0006  -0.0008 -0.0003  True \n",
      "     qs3            qs4       -0.0008  -0.0011 -0.0006  True \n",
      "     qs3            qs5       -0.0006  -0.0009 -0.0003  True \n",
      "     qs4            qs5        0.0002    -0.0   0.0005 False \n",
      "-------------------------------------------------------------\n"
     ]
    }
   ],
   "source": [
    "print(posthoc)"
   ]
  },
  {
   "cell_type": "code",
   "execution_count": 98,
   "metadata": {},
   "outputs": [],
   "source": [
    "fig = posthoc.plot_simultaneous()"
   ]
  },
  {
   "cell_type": "code",
   "execution_count": 39,
   "metadata": {
    "collapsed": true
   },
   "outputs": [],
   "source": [
    "data.to_csv('data.csv', index=False)"
   ]
  }
 ],
 "metadata": {
  "kernelspec": {
   "display_name": "Python 3",
   "language": "python",
   "name": "python3"
  },
  "language_info": {
   "codemirror_mode": {
    "name": "ipython",
    "version": 3
   },
   "file_extension": ".py",
   "mimetype": "text/x-python",
   "name": "python",
   "nbconvert_exporter": "python",
   "pygments_lexer": "ipython3",
   "version": "3.6.1"
  }
 },
 "nbformat": 4,
 "nbformat_minor": 2
}
