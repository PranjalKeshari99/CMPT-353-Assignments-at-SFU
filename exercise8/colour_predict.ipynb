{
 "cells": [
  {
   "cell_type": "code",
   "execution_count": 1,
   "metadata": {
    "collapsed": true
   },
   "outputs": [],
   "source": [
    "import numpy as np\n",
    "import pandas as pd\n",
    "import matplotlib.pyplot as plt\n",
    "from skimage.color import lab2rgb\n",
    "from skimage.color import rgb2lab\n",
    "import sys\n",
    "from sklearn.naive_bayes import GaussianNB\n",
    "from sklearn.model_selection import train_test_split\n",
    "from sklearn.preprocessing import FunctionTransformer\n",
    "from sklearn.pipeline import make_pipeline\n",
    "from sklearn.neighbors import KNeighborsClassifier\n",
    "from sklearn.svm import SVC"
   ]
  },
  {
   "cell_type": "code",
   "execution_count": 2,
   "metadata": {
    "collapsed": true
   },
   "outputs": [],
   "source": [
    "OUTPUT_TEMPLATE = (\n",
    "    'Bayesian classifier: {bayes_rgb:.3g} {bayes_lab:.3g}\\n'\n",
    "    'kNN classifier:      {knn_rgb:.3g} {knn_lab:.3g}\\n'\n",
    "    'SVM classifier:      {svm_rgb:.3g} {svm_lab:.3g}\\n'\n",
    ")"
   ]
  },
  {
   "cell_type": "code",
   "execution_count": 3,
   "metadata": {
    "collapsed": true
   },
   "outputs": [],
   "source": [
    "COLOUR_RGB = {\n",
    "    'red': (255, 0, 0),\n",
    "    'orange': (255, 114, 0),\n",
    "    'yellow': (255, 255, 0),\n",
    "    'green': (0, 230, 0),\n",
    "    'blue': (0, 0, 255),\n",
    "    'purple': (187, 0, 187),\n",
    "    'brown': (117, 60, 0),\n",
    "    'pink': (255, 187, 187),\n",
    "    'black': (0, 0, 0),\n",
    "    'grey': (150, 150, 150),\n",
    "    'white': (255, 255, 255),\n",
    "}\n",
    "name_to_rgb = np.vectorize(COLOUR_RGB.get, otypes=[np.uint8, np.uint8, np.uint8])"
   ]
  },
  {
   "cell_type": "code",
   "execution_count": 4,
   "metadata": {
    "collapsed": true
   },
   "outputs": [],
   "source": [
    "data = pd.read_csv('colour-data.csv')\n",
    "X = data[['R', 'G', 'B']].values / 255\n",
    "y = data['Label'].values"
   ]
  },
  {
   "cell_type": "code",
   "execution_count": 51,
   "metadata": {},
   "outputs": [],
   "source": [
    "# TODO: create some models\n",
    "X_train, X_test, y_train, y_test = train_test_split(X, y)\n",
    "\n",
    "bayes_rgb_model = GaussianNB()\n",
    "bayes_lab_model = make_pipeline(\n",
    "    FunctionTransformer(RGBtoLAB),\n",
    "    GaussianNB()\n",
    ")\n",
    "\n",
    "knn_rgb_model = KNeighborsClassifier(n_neighbors=9)\n",
    "knn_lab_model = make_pipeline(\n",
    "    FunctionTransformer(RGBtoLAB),\n",
    "    KNeighborsClassifier(n_neighbors=9)\n",
    ")\n",
    "\n",
    "svc_rgb_model = SVC(kernel='linear', C=0.1)\n",
    "svc_lab_model = make_pipeline(\n",
    "    FunctionTransformer(RGBtoLAB),\n",
    "    SVC(kernel='linear', C=0.1)\n",
    ")"
   ]
  },
  {
   "cell_type": "code",
   "execution_count": 52,
   "metadata": {},
   "outputs": [],
   "source": [
    "# train each model and output image of predictions\n",
    "models = [bayes_rgb_model, bayes_lab_model, knn_rgb_model, knn_lab_model, svc_rgb_model, svc_lab_model]\n",
    "plt.close('all')\n",
    "for i, m in enumerate(models):  # yes, you can leave this loop in if you want.\n",
    "    m.fit(X_train, y_train)\n",
    "    plot_predictions(m)\n",
    "    plt.savefig('predictions-%i.png' % (i,))"
   ]
  },
  {
   "cell_type": "code",
   "execution_count": 50,
   "metadata": {},
   "outputs": [
    {
     "name": "stdout",
     "output_type": "stream",
     "text": [
      "Bayesian classifier: 0.537 0.597\n",
      "kNN classifier:      0.725 0.736\n",
      "SVM classifier:      0.557 0.717\n",
      "\n"
     ]
    }
   ],
   "source": [
    "print(OUTPUT_TEMPLATE.format(\n",
    "    bayes_rgb=bayes_rgb_model.score(X_test, y_test),\n",
    "    bayes_lab=bayes_lab_model.score(X_test, y_test),\n",
    "    knn_rgb=knn_rgb_model.score(X_test, y_test),\n",
    "    knn_lab=knn_lab_model.score(X_test, y_test),\n",
    "    svm_rgb=svc_rgb_model.score(X_test, y_test),\n",
    "    svm_lab=svc_lab_model.score(X_test, y_test),\n",
    " ))"
   ]
  },
  {
   "cell_type": "code",
   "execution_count": 6,
   "metadata": {
    "collapsed": true
   },
   "outputs": [],
   "source": [
    "def RGBtoLAB(X):\n",
    "    X = X.reshape(1,-1,3)\n",
    "    X = rgb2lab(X)\n",
    "    X = X.reshape(-1,3)\n",
    "    return X"
   ]
  },
  {
   "cell_type": "code",
   "execution_count": 9,
   "metadata": {
    "collapsed": true
   },
   "outputs": [],
   "source": [
    "def plot_predictions(model, lum=71, resolution=256):\n",
    "    \"\"\"\n",
    "    Create a slice of LAB colour space with given luminance; predict with the model; plot the results.\n",
    "    \"\"\"\n",
    "    wid = resolution\n",
    "    hei = resolution\n",
    "    n_ticks = 5\n",
    "\n",
    "    # create a hei*wid grid of LAB colour values, with L=lum\n",
    "    ag = np.linspace(-100, 100, wid)\n",
    "    bg = np.linspace(-100, 100, hei)\n",
    "    aa, bb = np.meshgrid(ag, bg)\n",
    "    ll = lum * np.ones((hei, wid))\n",
    "    lab_grid = np.stack([ll, aa, bb], axis=2)\n",
    "\n",
    "    # convert to RGB for consistency with original input\n",
    "    X_grid = lab2rgb(lab_grid)\n",
    "\n",
    "    # predict and convert predictions to colours so we can see what's happening\n",
    "    y_grid = model.predict(X_grid.reshape((wid*hei, 3)))\n",
    "    pixels = np.stack(name_to_rgb(y_grid), axis=1) / 255\n",
    "    pixels = pixels.reshape((hei, wid, 3))\n",
    "\n",
    "    # plot input and predictions\n",
    "    plt.figure(figsize=(10, 5))\n",
    "    plt.suptitle('Predictions at L=%g' % (lum,))\n",
    "    plt.subplot(1, 2, 1)\n",
    "    plt.title('Inputs')\n",
    "    plt.xticks(np.linspace(0, wid, n_ticks), np.linspace(-100, 100, n_ticks))\n",
    "    plt.yticks(np.linspace(0, hei, n_ticks), np.linspace(-100, 100, n_ticks))\n",
    "    plt.xlabel('A')\n",
    "    plt.ylabel('B')\n",
    "    plt.imshow(X_grid.reshape((hei, wid, 3)))\n",
    "\n",
    "    plt.subplot(1, 2, 2)\n",
    "    plt.title('Predicted Labels')\n",
    "    plt.xticks(np.linspace(0, wid, n_ticks), np.linspace(-100, 100, n_ticks))\n",
    "    plt.yticks(np.linspace(0, hei, n_ticks), np.linspace(-100, 100, n_ticks))\n",
    "    plt.xlabel('A')\n",
    "    plt.imshow(pixels)"
   ]
  }
 ],
 "metadata": {
  "kernelspec": {
   "display_name": "Python 3",
   "language": "python",
   "name": "python3"
  },
  "language_info": {
   "codemirror_mode": {
    "name": "ipython",
    "version": 3
   },
   "file_extension": ".py",
   "mimetype": "text/x-python",
   "name": "python",
   "nbconvert_exporter": "python",
   "pygments_lexer": "ipython3",
   "version": "3.6.1"
  }
 },
 "nbformat": 4,
 "nbformat_minor": 2
}
