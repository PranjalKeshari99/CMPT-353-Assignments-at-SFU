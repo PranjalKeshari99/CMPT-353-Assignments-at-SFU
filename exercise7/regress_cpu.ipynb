{
 "cells": [
  {
   "cell_type": "code",
   "execution_count": 52,
   "metadata": {
    "collapsed": true
   },
   "outputs": [],
   "source": [
    "import numpy as np\n",
    "import pandas as pd\n",
    "import matplotlib.pyplot as plt\n",
    "import sys\n",
    "from pykalman import KalmanFilter\n",
    "from sklearn.linear_model import LinearRegression"
   ]
  },
  {
   "cell_type": "code",
   "execution_count": 53,
   "metadata": {
    "collapsed": true
   },
   "outputs": [],
   "source": [
    "X_columns = ['temperature', 'cpu_percent', 'fan_rpm', 'sys_load_1']\n",
    "y_column = 'next_temp'"
   ]
  },
  {
   "cell_type": "code",
   "execution_count": 54,
   "metadata": {
    "collapsed": true
   },
   "outputs": [],
   "source": [
    "sysinfo = pd.read_csv('sysinfo.csv', parse_dates=['timestamp'])\n",
    "\n",
    "# TODO: add the column that we want to predict: the temperatures from the *next* time step.\n",
    "sysinfo[y_column] = sysinfo['temperature'].shift(-1) # should be the temperature value from the next row\n",
    "sysinfo = sysinfo[sysinfo[y_column].notnull()] # the last row should have y_column null: no next temp known (deleted)\n",
    "\n",
    "# return most of the data to train, and pick an interesting segment to test\n",
    "split1 = int(sysinfo.shape[0] * 0.8)\n",
    "split2 = int(sysinfo.shape[0] * 0.84)\n",
    "train = sysinfo.iloc[:split1, :]\n",
    "test = sysinfo.iloc[split1:split2, :]"
   ]
  },
  {
   "cell_type": "code",
   "execution_count": 55,
   "metadata": {},
   "outputs": [],
   "source": [
    "X_train, y_train = train[X_columns], train[y_column]\n",
    "X_test, y_test = test[X_columns], test[y_column]"
   ]
  },
  {
   "cell_type": "code",
   "execution_count": 56,
   "metadata": {
    "collapsed": true
   },
   "outputs": [],
   "source": [
    "#Create and train a model based on the training_data_file data.\n",
    "#Return the model, and the list of coefficients for the 'X_columns' variables in the regression.\n",
    "# TODO: create regression model and train.\n",
    "model = LinearRegression(fit_intercept=False)\n",
    "model.fit(X_train, y_train) #train\n",
    "coefficients = model.coef_"
   ]
  },
  {
   "cell_type": "code",
   "execution_count": 57,
   "metadata": {},
   "outputs": [
    {
     "name": "stdout",
     "output_type": "stream",
     "text": [
      "next_temp = 0.637*temperature + 0.051*cpu_percent + 0.0188*fan_rpm + 1.25*sys_load_1\n"
     ]
    }
   ],
   "source": [
    "regress = ' + '.join('%.3g*%s' % (coef, col) for col, coef in zip(X_columns, coefficients))\n",
    "print('next_temp = ' + regress)\n",
    "#print(\"Training score: %g\\nTesting score: %g\" % (model.score(X_train, y_train), model.score(X_test, y_test)))"
   ]
  },
  {
   "cell_type": "code",
   "execution_count": 58,
   "metadata": {},
   "outputs": [],
   "source": [
    "plt.figure(0)\n",
    "plt.hist(y_test - model.predict(X_test), bins=100)\n",
    "plt.savefig('test_errors.png')"
   ]
  },
  {
   "cell_type": "code",
   "execution_count": 61,
   "metadata": {},
   "outputs": [],
   "source": [
    "X_test, y_test = test[X_columns], test[y_column] #for kalman filter only\n",
    "\n",
    "# feel free to tweak these if you think it helps.\n",
    "transition_stddev = 2.0\n",
    "observation_stddev = 2.0\n",
    "\n",
    "dims = X_test.shape[-1]\n",
    "initial = X_test.iloc[0]\n",
    "observation_covariance = np.diag([observation_stddev, 2, 10, 1]) ** 2\n",
    "transition_covariance = np.diag([transition_stddev, 80, 100, 10]) ** 2\n",
    "\n",
    "# Transition = identity for all variables, except we'll replace the top row\n",
    "# to make a better prediction, which was the point of all this.\n",
    "transition = np.eye(dims) # identity matrix, except...\n",
    "\n",
    "# TODO: replace the first row of transition to use the coefficients we just calculated (which were passed into this function as coef.).\n",
    "transition[0] = coefficients\n",
    "\n",
    "kf = KalmanFilter(\n",
    "    initial_state_mean=initial,\n",
    "    initial_state_covariance=observation_covariance,\n",
    "    observation_covariance=observation_covariance,\n",
    "    transition_covariance=transition_covariance,\n",
    ")\n",
    "\n",
    "kalman_smoothed, _ = kf.smooth(X_test)\n",
    "\n",
    "plt.figure(figsize=(15, 6))\n",
    "plt.plot(test['timestamp'], test['temperature'], 'b.', alpha=0.5)\n",
    "plt.plot(test['timestamp'], kalman_smoothed[:, 0], 'g-')\n",
    "plt.savefig('smoothed.png')"
   ]
  }
 ],
 "metadata": {
  "kernelspec": {
   "display_name": "Python 3",
   "language": "python",
   "name": "python3"
  },
  "language_info": {
   "codemirror_mode": {
    "name": "ipython",
    "version": 3
   },
   "file_extension": ".py",
   "mimetype": "text/x-python",
   "name": "python",
   "nbconvert_exporter": "python",
   "pygments_lexer": "ipython3",
   "version": "3.6.1"
  }
 },
 "nbformat": 4,
 "nbformat_minor": 2
}
