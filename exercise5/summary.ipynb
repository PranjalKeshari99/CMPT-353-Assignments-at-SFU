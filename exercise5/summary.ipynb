{
 "cells": [
  {
   "cell_type": "code",
   "execution_count": 93,
   "metadata": {
    "collapsed": true
   },
   "outputs": [],
   "source": [
    "import numpy as np\n",
    "import pandas as pd\n",
    "import os"
   ]
  },
  {
   "cell_type": "code",
   "execution_count": 23,
   "metadata": {
    "collapsed": true
   },
   "outputs": [],
   "source": [
    "data1 = pd.read_csv('data-1.csv')\n",
    "data2 = pd.read_csv('data-2.csv')\n",
    "data3 = pd.read_csv('data-3.csv')\n",
    "data4 = pd.read_csv('data-4.csv')\n",
    "data5 = pd.read_csv('data-5.csv')\n",
    "data6 = pd.read_csv('data-6.csv')"
   ]
  },
  {
   "cell_type": "code",
   "execution_count": 88,
   "metadata": {},
   "outputs": [],
   "source": [
    "def get_data_stats(data, name): #returns the summary dataframe\n",
    "    summary = pd.DataFrame(\n",
    "    {\n",
    "        'mean_x': data['x'].mean(),\n",
    "        'mean_y' : data['y'].mean(),\n",
    "        'std_x' : data['x'].std(),\n",
    "        'std_y' : data['y'].std(),\n",
    "        'range' : str([data['x'].max(), data['x'].min()]),\n",
    "        'corr_coeff' : data.corr()['x']['y']\n",
    "    },\n",
    "        index=[name]\n",
    "    ) \n",
    "    return summary "
   ]
  },
  {
   "cell_type": "code",
   "execution_count": 96,
   "metadata": {},
   "outputs": [
    {
     "data": {
      "text/html": [
       "<div>\n",
       "<style>\n",
       "    .dataframe thead tr:only-child th {\n",
       "        text-align: right;\n",
       "    }\n",
       "\n",
       "    .dataframe thead th {\n",
       "        text-align: left;\n",
       "    }\n",
       "\n",
       "    .dataframe tbody tr th {\n",
       "        vertical-align: top;\n",
       "    }\n",
       "</style>\n",
       "<table border=\"1\" class=\"dataframe\">\n",
       "  <thead>\n",
       "    <tr style=\"text-align: right;\">\n",
       "      <th></th>\n",
       "      <th>corr_coeff</th>\n",
       "      <th>mean_x</th>\n",
       "      <th>mean_y</th>\n",
       "      <th>range</th>\n",
       "      <th>std_x</th>\n",
       "      <th>std_y</th>\n",
       "    </tr>\n",
       "  </thead>\n",
       "  <tbody>\n",
       "    <tr>\n",
       "      <th>data1</th>\n",
       "      <td>0.950326</td>\n",
       "      <td>8.717696</td>\n",
       "      <td>12.522874</td>\n",
       "      <td>[35.237055487851293, -22.635877790008944]</td>\n",
       "      <td>12.155517</td>\n",
       "      <td>6.639964</td>\n",
       "    </tr>\n",
       "    <tr>\n",
       "      <th>data2</th>\n",
       "      <td>0.955153</td>\n",
       "      <td>-0.710787</td>\n",
       "      <td>-0.748987</td>\n",
       "      <td>[27.647000372207302, -33.2711130771198]</td>\n",
       "      <td>11.481584</td>\n",
       "      <td>6.257918</td>\n",
       "    </tr>\n",
       "    <tr>\n",
       "      <th>data3</th>\n",
       "      <td>0.981937</td>\n",
       "      <td>0.968907</td>\n",
       "      <td>8.508535</td>\n",
       "      <td>[4.5188849175536303, -2.4490643296742807]</td>\n",
       "      <td>2.235558</td>\n",
       "      <td>1.149301</td>\n",
       "    </tr>\n",
       "    <tr>\n",
       "      <th>data4</th>\n",
       "      <td>-0.081193</td>\n",
       "      <td>49.905086</td>\n",
       "      <td>18.553837</td>\n",
       "      <td>[87.3767, 0.0]</td>\n",
       "      <td>28.508611</td>\n",
       "      <td>16.545896</td>\n",
       "    </tr>\n",
       "    <tr>\n",
       "      <th>data5</th>\n",
       "      <td>-0.088236</td>\n",
       "      <td>49.909994</td>\n",
       "      <td>18.555525</td>\n",
       "      <td>[91.052863339697595, 4.3378924536745247]</td>\n",
       "      <td>28.500001</td>\n",
       "      <td>16.540796</td>\n",
       "    </tr>\n",
       "    <tr>\n",
       "      <th>data6</th>\n",
       "      <td>0.935069</td>\n",
       "      <td>7.216155</td>\n",
       "      <td>7.602215</td>\n",
       "      <td>[35.402138910928997, -24.333820752340969]</td>\n",
       "      <td>11.921599</td>\n",
       "      <td>11.764382</td>\n",
       "    </tr>\n",
       "  </tbody>\n",
       "</table>\n",
       "</div>"
      ],
      "text/plain": [
       "       corr_coeff     mean_x     mean_y  \\\n",
       "data1    0.950326   8.717696  12.522874   \n",
       "data2    0.955153  -0.710787  -0.748987   \n",
       "data3    0.981937   0.968907   8.508535   \n",
       "data4   -0.081193  49.905086  18.553837   \n",
       "data5   -0.088236  49.909994  18.555525   \n",
       "data6    0.935069   7.216155   7.602215   \n",
       "\n",
       "                                           range      std_x      std_y  \n",
       "data1  [35.237055487851293, -22.635877790008944]  12.155517   6.639964  \n",
       "data2    [27.647000372207302, -33.2711130771198]  11.481584   6.257918  \n",
       "data3  [4.5188849175536303, -2.4490643296742807]   2.235558   1.149301  \n",
       "data4                             [87.3767, 0.0]  28.508611  16.545896  \n",
       "data5   [91.052863339697595, 4.3378924536745247]  28.500001  16.540796  \n",
       "data6  [35.402138910928997, -24.333820752340969]  11.921599  11.764382  "
      ]
     },
     "execution_count": 96,
     "metadata": {},
     "output_type": "execute_result"
    }
   ],
   "source": [
    "summary = summary_df(data1, 'data1')\n",
    "summary = summary.append(get_data_stats(data2, 'data2'))\n",
    "summary = summary.append(get_data_stats(data3, 'data3'))\n",
    "summary = summary.append(get_data_stats(data4, 'data4'))\n",
    "summary = summary.append(get_data_stats(data5, 'data5'))\n",
    "summary = summary.append(get_data_stats(data6, 'data6'))"
   ]
  },
  {
   "cell_type": "code",
   "execution_count": 95,
   "metadata": {},
   "outputs": [],
   "source": [
    "filename = 'summary.txt'\n",
    "with open(os.path.join( filename),'w') as outfile:\n",
    "    summary.to_string(outfile)"
   ]
  }
 ],
 "metadata": {
  "kernelspec": {
   "display_name": "Python 3",
   "language": "python",
   "name": "python3"
  },
  "language_info": {
   "codemirror_mode": {
    "name": "ipython",
    "version": 3
   },
   "file_extension": ".py",
   "mimetype": "text/x-python",
   "name": "python",
   "nbconvert_exporter": "python",
   "pygments_lexer": "ipython3",
   "version": "3.6.1"
  }
 },
 "nbformat": 4,
 "nbformat_minor": 2
}
