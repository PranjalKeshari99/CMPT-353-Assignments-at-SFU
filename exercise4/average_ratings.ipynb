{
 "cells": [
  {
   "cell_type": "code",
   "execution_count": 220,
   "metadata": {
    "collapsed": true
   },
   "outputs": [],
   "source": [
    "import numpy as np\n",
    "import pandas as pd\n",
    "import sys # for command line arguments\n",
    "import difflib"
   ]
  },
  {
   "cell_type": "code",
   "execution_count": 231,
   "metadata": {},
   "outputs": [],
   "source": [
    "movie_list = \"movie_list.txt\"\n",
    "movie_ratings = \"movie_ratings.csv\"\n",
    "output_file = \"output.csv\"\n",
    "movies = open(movie_list).readlines()\n",
    "movies = list(map(lambda s: s.strip(), movies)) #strip whitespace by default with the strip func map object needs to be converted back to list\n",
    "\n"
   ]
  },
  {
   "cell_type": "code",
   "execution_count": 222,
   "metadata": {},
   "outputs": [],
   "source": [
    "df = pd.DataFrame(movies, columns=['title'])\n",
    "#df['movies'] = df['movies'].replace('\\n','', regex= True)"
   ]
  },
  {
   "cell_type": "code",
   "execution_count": 223,
   "metadata": {},
   "outputs": [],
   "source": [
    "#find the average movie ratings from the \n",
    "ratings = pd.read_csv(movie_ratings)\n"
   ]
  },
  {
   "cell_type": "code",
   "execution_count": 224,
   "metadata": {
    "collapsed": true
   },
   "outputs": [],
   "source": [
    "def get_movie_title(word):\n",
    "    matches = difflib.get_close_matches(word, movies, n=500)\n",
    "    return matches"
   ]
  },
  {
   "cell_type": "code",
   "execution_count": 225,
   "metadata": {},
   "outputs": [],
   "source": [
    "ratings['title'] = ratings['title'].apply(lambda title: get_movie_title(title))\n",
    "ratings['title'] = ratings.title.apply(''.join) #to get ride of brackets around the movie title\n",
    "ratings = ratings[ratings.title != ''] #remove empty strings\n",
    "ratings = ratings.reset_index(drop=True) #drops the old index"
   ]
  },
  {
   "cell_type": "code",
   "execution_count": 227,
   "metadata": {},
   "outputs": [],
   "source": [
    "ratings = ratings.groupby('title', 0).mean().reset_index() #reset_index to the title"
   ]
  },
  {
   "cell_type": "code",
   "execution_count": 228,
   "metadata": {},
   "outputs": [],
   "source": [
    "output_df = df.merge(ratings, on='title')\n",
    "output_df['rating'] = output_df['rating'].round(2)"
   ]
  },
  {
   "cell_type": "code",
   "execution_count": 232,
   "metadata": {},
   "outputs": [],
   "source": [
    "output_df.to_csv(output_file)"
   ]
  }
 ],
 "metadata": {
  "kernelspec": {
   "display_name": "Python 3",
   "language": "python",
   "name": "python3"
  },
  "language_info": {
   "codemirror_mode": {
    "name": "ipython",
    "version": 3
   },
   "file_extension": ".py",
   "mimetype": "text/x-python",
   "name": "python",
   "nbconvert_exporter": "python",
   "pygments_lexer": "ipython3",
   "version": "3.6.1"
  }
 },
 "nbformat": 4,
 "nbformat_minor": 2
}
